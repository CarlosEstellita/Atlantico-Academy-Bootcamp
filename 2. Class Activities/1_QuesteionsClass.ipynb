{
  "nbformat": 4,
  "nbformat_minor": 0,
  "metadata": {
    "colab": {
      "name": "1.QuesteionsClass.ipynb",
      "provenance": [],
      "mount_file_id": "1NyvivXRn06KS0tWF3YniFfD-rQFBkKPV",
      "authorship_tag": "ABX9TyPymtXQiFhjjMrk6gXqkoA5",
      "include_colab_link": true
    },
    "kernelspec": {
      "name": "python3",
      "display_name": "Python 3"
    },
    "language_info": {
      "name": "python"
    }
  },
  "cells": [
    {
      "cell_type": "markdown",
      "metadata": {
        "id": "view-in-github",
        "colab_type": "text"
      },
      "source": [
        "<a href=\"https://colab.research.google.com/github/CarlosEstellita/Atlantico-Academy-Bootcamp/blob/main/2.%20Class%20Activities/1_QuesteionsClass.ipynb\" target=\"_parent\"><img src=\"https://colab.research.google.com/assets/colab-badge.svg\" alt=\"Open In Colab\"/></a>"
      ]
    },
    {
      "cell_type": "markdown",
      "source": [
        "#First Class Questions:"
      ],
      "metadata": {
        "id": "0dSVBYAQj4k6"
      }
    },
    {
      "cell_type": "markdown",
      "source": [
        "O módulos foram importados via Google Drive!"
      ],
      "metadata": {
        "id": "bAZdmaBuEGxQ"
      }
    },
    {
      "cell_type": "markdown",
      "source": [
        "##First Question:"
      ],
      "metadata": {
        "id": "kIJKZXQGO-yE"
      }
    },
    {
      "cell_type": "markdown",
      "source": [
        "Practicing regular expressions: re.split() e re.findall()"
      ],
      "metadata": {
        "id": "yuw59coBuHte"
      }
    },
    {
      "cell_type": "code",
      "execution_count": 1,
      "metadata": {
        "colab": {
          "base_uri": "https://localhost:8080/"
        },
        "id": "9sTl-IWPJiBX",
        "outputId": "480a3e0c-f851-4c98-e365-c34dfbbf124e"
      },
      "outputs": [
        {
          "output_type": "stream",
          "name": "stdout",
          "text": [
            "[\"Let's write RegEx\", \"  Won't that be fun\", '  I sure think so', '  Can you find 4 sentences', ' Or perhaps, all 19 words', '']\n",
            "['Let', 'RegEx', 'Won', 'Can', 'Or']\n",
            "[\"Let's\", 'write', 'RegEx!', '', \"Won't\", 'that', 'be', 'fun?', '', 'I', 'sure', 'think', 'so.', '', 'Can', 'you', 'find', '4', 'sentences?', 'Or', 'perhaps,', 'all', '19', 'words?']\n",
            "['4', '1', '9']\n"
          ]
        }
      ],
      "source": [
        "import re\n",
        "# Write a pattern to match sentence endings: sentence_endings\n",
        "my_string = \"Let's write RegEx!  Won't that be fun?  \" \\\n",
        "            \"I sure think so.  Can you find 4 sentences? \" \\\n",
        "            \"Or perhaps, all 19 words?\"\n",
        "\n",
        "sentence_endings = r\"[.?!]\"\n",
        "\n",
        "# Split my_string on sentence endings and print the result\n",
        "print(re.split(sentence_endings, my_string))\n",
        "\n",
        "# Find all capitalized words in my_string and print the result\n",
        "capitalized_words = r\"[A-Z]\\w+\"\n",
        "print(re.findall(capitalized_words, my_string))\n",
        "\n",
        "# Split my_string on spaces and print the result\n",
        "spaces = r\"\\s\"\n",
        "print(re.split(spaces, my_string))\n",
        "\n",
        "# Find all digits in my_string and print the result\n",
        "digits = r\"\\d\"\n",
        "print(re.findall(digits, my_string))"
      ]
    },
    {
      "cell_type": "markdown",
      "source": [
        "##Second Question:"
      ],
      "metadata": {
        "id": "Psk3sZ7DSZnh"
      }
    },
    {
      "cell_type": "markdown",
      "source": [
        "Tokenizing with NLTK"
      ],
      "metadata": {
        "id": "GpH54l5nuMXG"
      }
    },
    {
      "cell_type": "code",
      "source": [
        "# Import necessary modules\n",
        "from nltk.tokenize import sent_tokenize , word_tokenize\n",
        "from drive.MyDrive.NLP.src.nlp_utils import get_sample_Santo_Graal\n",
        "\n",
        "# Split scene_one into sentences: sentences\n",
        "scene_one = get_sample_Santo_Graal()\n",
        "sentences = sent_tokenize(scene_one)\n",
        "\n",
        "# Use word_tokenize to tokenize the fourth sentence: tokenized_sent\n",
        "tokenized_sent = word_tokenize(sentences[3])\n",
        "\n",
        "# Make a set of unique tokens in the entire scene: unique_tokens\n",
        "unique_tokens = set(word_tokenize(scene_one))\n",
        "\n",
        "# Print the unique tokens result\n",
        "print(unique_tokens)"
      ],
      "metadata": {
        "colab": {
          "base_uri": "https://localhost:8080/"
        },
        "id": "lCL10Kmi1aw8",
        "outputId": "3079de0d-1156-4135-9566-bde2eaa8b809"
      },
      "execution_count": 2,
      "outputs": [
        {
          "output_type": "stream",
          "name": "stdout",
          "text": [
            "{'forty-three', 'Pendragon', ',', 'master', 'in', 'Camelot', 'is', 'other', 'ridden', 'an', 'that', 'ounce', 'these', 'ratios', 'to', 'needs', 'course', 'through', 'back', 'but', 'minute', 'could', 'A', 'But', 'swallows', '...', 'interested', 'wind', '.', 'What', 'them', 'are', 'who', 'length', 'at', ']', 'weight', 'Not', 'with', \"'ve\", 'snows', 'I', 'In', 'may', 'a', 'England', 'guiding', 'lord', 'Are', 'KING', 'Yes', 'Will', '?', 'he', 'this', 'sovereign', 'Mercea', 'servant', 'We', 'Who', 'court', 'fly', '[', \"'s\", 'question', 'and', 'mean', 'Arthur', 'here', 'climes', 'Whoa', \"'re\", 'south', 'go', 'speak', 'order', 'if', 'Wait', 'simple', 'must', 'every', '--', 'sun', 'tell', 'maintain', 'second', 'zone', 'The', 'carrying', 'five', 'together', 'King', 'Supposing', 'suggesting', 'times', 'agree', 'empty', 'where', 'of', 'So', \"n't\", 'swallow', 'will', \"'m\", '2', 'velocity', 'anyway', 'right', 'ask', 'European', 'temperate', 'trusty', 'non-migratory', 'line', 'why', 'the', 'under', 'carry', 'you', 'No', ':', 'dorsal', '!', 'They', 'get', 'halves', 'there', 'not', 'bangin', 'matter', 'breadth', 'clop', 'Pull', \"'em\", 'wants', 'found', 'from', 'SCENE', 'winter', 'grips', 'search', 'using', 'point', 'coconuts', 'our', 'am', 'grip', 'bring', 'air-speed', 'got', 'martin', 'carried', 'yeah', 'creeper', 'defeator', 'wings', 'African', 'held', 'SOLDIER', 'Uther', 'coconut', 'Court', 'Patsy', \"'\", 'by', 'on', 'You', 'goes', 'or', 'ARTHUR', 'your', 'kingdom', 'Please', 'join', 'maybe', 'Halt', 'beat', 'then', 'two', 'Saxons', 'warmer', 'it', 'all', 'covered', 'bird', 'That', 'be', 'plover', 'Found', 'It', 'husk', '#', 'house', 'its', 'feathers', 'knights', 'Ridden', 'land', 'Listen', 'son', 'one', 'Am', 'have', 'do', 'my', 'Where', 'use', 'horse', 'tropical', 'seek', 'Britons', 'just', 'since', 'yet', 'me', 'Oh', '1', 'Well', 'strand', 'they', 'castle', 'pound', 'migrate', \"'d\", 'strangers', 'does'}\n"
          ]
        }
      ]
    },
    {
      "cell_type": "markdown",
      "source": [
        "##Third question:"
      ],
      "metadata": {
        "id": "gQWqJi4YXZJn"
      }
    },
    {
      "cell_type": "markdown",
      "source": [
        "regex and re.search()"
      ],
      "metadata": {
        "id": "y-I-4EGvCtdQ"
      }
    },
    {
      "cell_type": "code",
      "source": [
        "from nltk.tokenize import sent_tokenize\n",
        "from drive.MyDrive.NLP.src.nlp_utils import get_sample_Santo_Graal\n",
        "\n",
        "scene_one =  get_sample_Santo_Graal()\n",
        "sentences =  sent_tokenize(scene_one)\n",
        "\n",
        "# Search for the first occurrence of \"coconuts\" in scene_one: match\n",
        "match = re.search(\"coconuts\", scene_one)\n",
        "\n",
        "# Print the start and end indexes of match\n",
        "print(match.start(), match.end())\n",
        "print(match)\n",
        "\n",
        "# Write a regular expression to search for anything in square brackets: pattern1\n",
        "pattern1 = r\"\\[.*\\]\"\n",
        "\n",
        "# Use re.search to find the first text in square brackets\n",
        "print(re.search(pattern1, scene_one))\n",
        "\n",
        "# Find the script notation at the beginning of the fourth sentence and print it\n",
        "pattern2 = r\"[\\w\\s]+:\"\n",
        "print(re.match(pattern2, sentences[3]))"
      ],
      "metadata": {
        "colab": {
          "base_uri": "https://localhost:8080/"
        },
        "id": "au7yoIcOXZAh",
        "outputId": "e2035daf-e9b6-42f9-a6a6-ee97669c87f5"
      },
      "execution_count": 3,
      "outputs": [
        {
          "output_type": "stream",
          "name": "stdout",
          "text": [
            "581 589\n",
            "<re.Match object; span=(581, 589), match='coconuts'>\n",
            "<re.Match object; span=(9, 32), match='[wind] [clop clop clop]'>\n",
            "<re.Match object; span=(0, 7), match='ARTHUR:'>\n"
          ]
        }
      ]
    },
    {
      "cell_type": "markdown",
      "source": [
        "##Fourth Question:"
      ],
      "metadata": {
        "id": "nrQzpRZ-aARY"
      }
    },
    {
      "cell_type": "markdown",
      "source": [
        "Regex with tokenization and NLTK"
      ],
      "metadata": {
        "id": "GSQpR8qw9vaa"
      }
    },
    {
      "cell_type": "code",
      "source": [
        "# Import the necessary modules\n",
        "\n",
        "from nltk.tokenize import regexp_tokenize, TweetTokenizer\n",
        "from drive.MyDrive.NLP.src.nlp_utils import get_tweets_sample\n",
        "\n",
        "tweets = get_tweets_sample()\n",
        "\n",
        "# Define a regex pattern to find hashtags: pattern1\n",
        "pattern1 = r\"#\\w+\"\n",
        "\n",
        "# Use the pattern on the first tweet in the tweets list\n",
        "hashtags = regexp_tokenize(tweets[0], pattern1)\n",
        "print(hashtags)\n",
        "\n",
        "# Write a pattern that matches both mentions (@) and hashtags\n",
        "pattern2 = r\"([#|@]\\w+)\"\n",
        "\n",
        "# Use the pattern on the last tweet in the tweets list\n",
        "mentions_hashtags = regexp_tokenize(tweets[-1], pattern2)\n",
        "print(mentions_hashtags)\n",
        "\n",
        "# Use the TweetTokenizer to tokenize all tweets into one list\n",
        "tknzr = TweetTokenizer()\n",
        "all_tokens = [tknzr.tokenize(t) for t in tweets]\n",
        "print(all_tokens)"
      ],
      "metadata": {
        "colab": {
          "base_uri": "https://localhost:8080/"
        },
        "id": "ibGYoQf0Z__X",
        "outputId": "0ce777a0-9810-4b86-c2c5-7bdbb4f45e4d"
      },
      "execution_count": 4,
      "outputs": [
        {
          "output_type": "stream",
          "name": "stdout",
          "text": [
            "['#nlp', '#python']\n",
            "['@Atlantico', '#nlp', '#python']\n",
            "[['This', 'is', 'the', 'best', '#nlp', 'exercise', 'ive', 'found', 'online', '!', '#python'], ['#NLP', 'is', 'super', 'fun', '!', '<3', '#learning'], ['Thanks', '@Atlantico', ':)', '#nlp', '#python']]\n"
          ]
        }
      ]
    },
    {
      "cell_type": "markdown",
      "source": [
        "##Fifth Question:"
      ],
      "metadata": {
        "id": "ZC0UCknocOlY"
      }
    },
    {
      "cell_type": "markdown",
      "source": [
        "Graphic plot"
      ],
      "metadata": {
        "id": "YYKdvC1yC-f4"
      }
    },
    {
      "cell_type": "code",
      "source": [
        "import matplotlib.pyplot as plt\n",
        "import re\n",
        "from nltk.tokenize import regexp_tokenize\n",
        "from drive.MyDrive.NLP.src.nlp_utils import get_sample_Santo_Graal\n",
        "\n",
        "# Split the script into lines: lines\n",
        "holy_grail = get_sample_Santo_Graal()\n",
        "lines = holy_grail.split('\\n')\n",
        "\n",
        "# Replace all script lines for speaker\n",
        "pattern = \"[A-Z]{2,}(\\s)?(#\\d)?([A-Z]{2,})?:\"\n",
        "lines = [re.sub(pattern, \" \", l) for l in lines]\n",
        "\n",
        "# Tokenize each line: tokenized_lines\n",
        "tokenized_lines = [regexp_tokenize(s,\"\\w+\") for s in lines]\n",
        "\n",
        "# Make a frequency list of lengths: line_num_words\n",
        "line_num_words = [len(t_line) for t_line in tokenized_lines]\n",
        "\n",
        "# Plot a histogram of the line lengths\n",
        "plt.hist(line_num_words)\n",
        "\n",
        "# Show the plot\n",
        "plt.show()"
      ],
      "metadata": {
        "colab": {
          "base_uri": "https://localhost:8080/",
          "height": 264
        },
        "id": "b7k5H1t-cOW_",
        "outputId": "c0ee4ae9-d4f7-4d31-f8d5-c6db783ae0c3"
      },
      "execution_count": 5,
      "outputs": [
        {
          "output_type": "display_data",
          "data": {
            "text/plain": [
              "<Figure size 432x288 with 1 Axes>"
            ],
            "image/png": "[encoded data removed]"
          },
          "metadata": {
            "needs_background": "light"
          }
        }
      ]
    }
  ]
}