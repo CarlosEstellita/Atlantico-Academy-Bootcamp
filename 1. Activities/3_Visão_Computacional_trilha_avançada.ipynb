{
  "nbformat": 4,
  "nbformat_minor": 0,
  "metadata": {
    "colab": {
      "name": "3_Visão_Computacional_trilha_avançada.ipynb",
      "provenance": [],
      "collapsed_sections": [],
      "mount_file_id": "1ovl9IoBwxcHPvd8OQkppMOirfXTLGQNB",
      "authorship_tag": "ABX9TyOR6ZTOR3/9nUyKZQ9KeZYc",
      "include_colab_link": true
    },
    "kernelspec": {
      "name": "python3",
      "display_name": "Python 3"
    },
    "language_info": {
      "name": "python"
    }
  },
  "cells": [
    {
      "cell_type": "markdown",
      "metadata": {
        "id": "view-in-github",
        "colab_type": "text"
      },
      "source": [
        "<a href=\"https://colab.research.google.com/github/CarlosEstellita/Atlantico-Academy-Bootcamp/blob/main/1.%20Activities/3_Vis%C3%A3o_Computacional_trilha_avan%C3%A7ada.ipynb\" target=\"_parent\"><img src=\"https://colab.research.google.com/assets/colab-badge.svg\" alt=\"Open In Colab\"/></a>"
      ]
    },
    {
      "cell_type": "markdown",
      "source": [
        "#IA BOOTCAMP - 3. Visão Computacional trilha avançada"
      ],
      "metadata": {
        "id": "6BrJNqt-9Nxl"
      }
    },
    {
      "cell_type": "markdown",
      "source": [
        "O Dataset foi importado via Google Drive!"
      ],
      "metadata": {
        "id": "CA9zOhPbLzwR"
      }
    },
    {
      "cell_type": "markdown",
      "source": [
        "##Seção Única"
      ],
      "metadata": {
        "id": "x62xSWuZ_ilQ"
      }
    },
    {
      "cell_type": "markdown",
      "source": [
        "###Importando bibliotecas"
      ],
      "metadata": {
        "id": "jTQzTOV5_ohk"
      }
    },
    {
      "cell_type": "code",
      "execution_count": null,
      "metadata": {
        "id": "nMfezO1u8aFB"
      },
      "outputs": [],
      "source": [
        "%matplotlib inline  \n",
        "import warnings \n",
        "warnings.filterwarnings('always') \n",
        "warnings.filterwarnings('ignore')\n",
        "import numpy as np\n",
        "import pandas as pd\n",
        "import matplotlib.pyplot as plt\n",
        "import seaborn as sns \n",
        "from sklearn.model_selection import train_test_split\n",
        "import keras\n",
        "import tensorflow as tf\n",
        "import cv2 as cv\n",
        "import os \n",
        "import glob\n",
        "import random\n",
        "\n",
        "from keras.preprocessing.image import ImageDataGenerator\n",
        "from keras.models import Model\n",
        "from tensorflow.keras.optimizers import Nadam\n",
        "from tensorflow.keras.utils import to_categorical\n",
        "from keras.layers import Dropout, Flatten, Input, Dense\n",
        "from tensorflow.keras.layers import Conv2D, MaxPooling2D, BatchNormalization"
      ]
    },
    {
      "cell_type": "markdown",
      "source": [
        "###Lendo e tratando os dados"
      ],
      "metadata": {
        "id": "35azSgYpCCF9"
      }
    },
    {
      "cell_type": "code",
      "source": [
        "daisy_dir = glob.glob(os.path.join('drive/MyDrive/flowers/daisy/', '*'))\n",
        "dandelion_dir = glob.glob(os.path.join('drive/MyDrive/flowers/dandelion/', '*'))\n",
        "rose_dir = glob.glob(os.path.join('drive/MyDrive/flowers/rose/', '*'))\n",
        "sunflower_dir = glob.glob(os.path.join('drive/MyDrive/flowers/sunflower/', '*'))\n",
        "tulip_dir = glob.glob(os.path.join('drive/MyDrive/flowers/tulip/', '*'))\n",
        "\n",
        "X_path = daisy_dir + dandelion_dir + rose_dir + sunflower_dir + tulip_dir\n",
        "\n",
        "X = []\n",
        "\n",
        "for f in X_path:\n",
        "  X.append(np.array(cv.resize(cv.imread(f), (224,224), interpolation = cv.INTER_AREA))) \n",
        "X = np.array(X)\n",
        "X = X / 255"
      ],
      "metadata": {
        "id": "o73ThF5RCCfW"
      },
      "execution_count": null,
      "outputs": []
    },
    {
      "cell_type": "markdown",
      "source": [
        "###Definindo as tabelas"
      ],
      "metadata": {
        "id": "lqM6s9c2D3Lg"
      }
    },
    {
      "cell_type": "code",
      "source": [
        "l_daisy = np.zeros(len(daisy_dir))\n",
        "l_dandelion = np.ones(len(dandelion_dir))\n",
        "l_rose = 2*np.ones(len(rose_dir))\n",
        "l_sunflower = 3*np.ones(len(sunflower_dir))\n",
        "l_tulip = 4*np.ones(len(tulip_dir))\n",
        "\n",
        "y = np.concatenate((l_daisy, l_dandelion, l_rose, l_sunflower, l_tulip))\n",
        "y = to_categorical(y, 5)"
      ],
      "metadata": {
        "id": "2eMlPw4cD24L"
      },
      "execution_count": null,
      "outputs": []
    },
    {
      "cell_type": "markdown",
      "source": [
        "###Separando e treinando validação"
      ],
      "metadata": {
        "id": "_H8390gZEPy8"
      }
    },
    {
      "cell_type": "code",
      "source": [
        "X_train, X_val, y_train, y_val = train_test_split(X, y, test_size = 0.2, random_state=42)"
      ],
      "metadata": {
        "id": "mZTU7e6HEPkU"
      },
      "execution_count": null,
      "outputs": []
    },
    {
      "cell_type": "code",
      "source": [
        "del X\n",
        "del y\n",
        "del daisy_dir\n",
        "del dandelion_dir\n",
        "del tulip_dir\n",
        "del rose_dir\n",
        "del sunflower_dir"
      ],
      "metadata": {
        "id": "58wV8McE7B1a"
      },
      "execution_count": null,
      "outputs": []
    },
    {
      "cell_type": "code",
      "source": [
        "datagen = ImageDataGenerator(\n",
        "        zoom_range = 0.1,\n",
        "        rotation_range= 15, \n",
        "        width_shift_range=0.1,\n",
        "        height_shift_range=0.1,\n",
        "        horizontal_flip=True,  \n",
        "        vertical_flip=True)\n",
        "\n",
        "datagen.fit(X_train)"
      ],
      "metadata": {
        "id": "W4LMskawEa0R"
      },
      "execution_count": null,
      "outputs": []
    },
    {
      "cell_type": "markdown",
      "source": [
        "###CNN do zero"
      ],
      "metadata": {
        "id": "dDeTycjTEnch"
      }
    },
    {
      "cell_type": "code",
      "source": [
        "inp = Input((224,224,3))\n",
        "\n",
        "conv1 = Conv2D(64, (5,5), padding='valid', activation= 'relu')(inp)\n",
        "conv1 = MaxPooling2D(pool_size=(2,2))(conv1)\n",
        "conv1 = BatchNormalization()(conv1)\n",
        "\n",
        "conv2 = Conv2D(96, (4,4), padding='valid', activation= 'relu')(conv1)\n",
        "conv2 = MaxPooling2D(pool_size=(2,2))(conv2)\n",
        "conv2 = BatchNormalization()(conv2)\n",
        "\n",
        "conv3 = Conv2D(128, (3,3), padding='valid', activation= 'relu')(conv2)\n",
        "conv3 = MaxPooling2D(pool_size=(2,2))(conv3)\n",
        "conv3 = BatchNormalization()(conv3)\n",
        "\n",
        "conv4 = Conv2D(256, (3,3), padding='valid', activation= 'relu')(conv3)\n",
        "conv4 = MaxPooling2D(pool_size=(2,2))(conv4)\n",
        "conv4 = BatchNormalization()(conv4)\n",
        "flat = Flatten()(conv4)\n",
        "\n",
        "dense1 = Dense(512, activation= 'relu')(flat)\n",
        "dense1 = Dropout(0.5)(dense1)\n",
        "\n",
        "dense2 = Dense(64, activation= 'relu')(dense1)\n",
        "dense2 = Dropout(0.1)(dense2)\n",
        "\n",
        "out = Dense(5, activation = 'softmax')(dense2)\n",
        "\n",
        "model = Model(inp, out)\n",
        "model.compile(optimizer = Nadam(lr = 0.0001) , loss = 'categorical_crossentropy', metrics=['accuracy'])"
      ],
      "metadata": {
        "id": "UNH0Uoz5EnNx"
      },
      "execution_count": null,
      "outputs": []
    },
    {
      "cell_type": "code",
      "source": [
        "history = model.fit(X_train, y_train, batch_size = 32, epochs = 50, initial_epoch = 0, validation_data = (X_val, y_val))"
      ],
      "metadata": {
        "id": "3RAy0AzSFB_6"
      },
      "execution_count": null,
      "outputs": []
    },
    {
      "cell_type": "markdown",
      "source": [
        "###Transfer Learning"
      ],
      "metadata": {
        "id": "VKXueHObFNz2"
      }
    },
    {
      "cell_type": "code",
      "source": [
        "vgg = keras.applications.VGG16(input_shape=(224,224,3), include_top = False, weights= 'imagenet')"
      ],
      "metadata": {
        "id": "O-LHx_2aFNk_"
      },
      "execution_count": null,
      "outputs": []
    },
    {
      "cell_type": "code",
      "source": [
        "x = vgg.output\n",
        "x = Flatten()(x)\n",
        "x = Dense(3078,activation='relu')(x) \n",
        "x = Dropout(0.5)(x)\n",
        "x = Dense(256,activation='relu')(x) \n",
        "x = Dropout(0.2)(x)\n",
        "out = Dense(5,activation='softmax')(x)\n",
        "\n",
        "tf_model=Model(inputs=vgg.input,outputs=out)\n",
        "\n",
        "for layer in tf_model.layers[:20]:\n",
        "    layer.trainable=False"
      ],
      "metadata": {
        "id": "7LdVDjgaF08E"
      },
      "execution_count": null,
      "outputs": []
    },
    {
      "cell_type": "code",
      "source": [
        "history = tf_model.fit(X_train, y_train, batch_size = 1, epochs = 30, initial_epoch = 0, validation_data = (X_val, y_val))"
      ],
      "metadata": {
        "id": "gHAyXaHdF_vj"
      },
      "execution_count": null,
      "outputs": []
    },
    {
      "cell_type": "markdown",
      "source": [
        "###Classificando alguns exemplos"
      ],
      "metadata": {
        "id": "kODoTLKXGVVL"
      }
    },
    {
      "cell_type": "code",
      "source": [
        "pred = tf_model.predict(X_val)\n",
        "pred = np.argmax(pred, axis = 1)"
      ],
      "metadata": {
        "id": "OlI7K8tIGRQb"
      },
      "execution_count": null,
      "outputs": []
    }
  ]
}